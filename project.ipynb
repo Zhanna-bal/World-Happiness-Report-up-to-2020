{
 "cells": [
  {
   "cell_type": "code",
   "execution_count": 30,
   "metadata": {},
   "outputs": [
    {
     "name": "stdout",
     "output_type": "stream",
     "text": [
      "MY TOPIC IS WORLD HAPPINESS REPORT UP TO 2020\n"
     ]
    }
   ],
   "source": [
    "print('''MY TOPIC IS WORLD HAPPINESS REPORT UP TO 2020''')"
   ]
  },
  {
   "cell_type": "code",
   "execution_count": 5,
   "metadata": {},
   "outputs": [
    {
     "name": "stdout",
     "output_type": "stream",
     "text": [
      "The World Happiness Report may be a point of interest survey of the state of worldwide bliss. The primary report was distributed in 2012, the second in 2013, the third in 2015, and the fourth within the 2016 Upgrade. The World Joy 2017, which positions 155 nations by their bliss levels, was discharged at the Joined together Countries at an occasion celebrating Universal Day of Joy on Walk 20th. The report proceeds to pick up worldwide acknowledgment as governments, organizations and respectful society progressively utilize joy pointers to educate their policy-making choices. Driving specialists over areas – financial matters, brain research, overview investigation, national insights, wellbeing, open approach and more – depict how estimations of well-being can be used effectively to evaluate the advance of countries. The reports survey the state of bliss within the world nowadays and appear how the modern science of bliss clarifies individual and national varieties in bliss.\n"
     ]
    }
   ],
   "source": [
    "print('The World Happiness Report may be a point of interest survey of the state of worldwide bliss. The primary report was distributed in 2012, the second in 2013, the third in 2015, and the fourth within the 2016 Upgrade. The World Joy 2017, which positions 155 nations by their bliss levels, was discharged at the Joined together Countries at an occasion celebrating Universal Day of Joy on Walk 20th. The report proceeds to pick up worldwide acknowledgment as governments, organizations and respectful society progressively utilize joy pointers to educate their policy-making choices. Driving specialists over areas – financial matters, brain research, overview investigation, national insights, wellbeing, open approach and more – depict how estimations of well-being can be used effectively to evaluate the advance of countries. The reports survey the state of bliss within the world nowadays and appear how the modern science of bliss clarifies individual and national varieties in bliss.')"
   ]
  },
  {
   "cell_type": "code",
   "execution_count": 15,
   "metadata": {},
   "outputs": [],
   "source": [
    "import pandas as pd\n",
    "import numpy as np\n",
    "import seaborn as sns \n",
    "import matplotlib.pyplot as plt\n"
   ]
  },
  {
   "cell_type": "code",
   "execution_count": 23,
   "metadata": {},
   "outputs": [
    {
     "name": "stdout",
     "output_type": "stream",
     "text": [
      "<_csv.reader object at 0x000001780901F880>\n"
     ]
    }
   ],
   "source": [
    "import csv\n",
    "data = open(r\"C:/Users/admin/Desktop/2019.csv\")\n",
    "data = csv.reader(data)  \n",
    "print(data)"
   ]
  },
  {
   "cell_type": "code",
   "execution_count": 27,
   "metadata": {},
   "outputs": [
    {
     "name": "stdout",
     "output_type": "stream",
     "text": [
      "<_csv.reader object at 0x000001780901F880>\n"
     ]
    }
   ],
   "source": [
    "import csv\n",
    "data = open(r\"C:/Users/admin/Desktop/2020.csv\")\n",
    "data = csv.reader(data)  \n",
    "print(data)"
   ]
  },
  {
   "cell_type": "code",
   "execution_count": 34,
   "metadata": {},
   "outputs": [
    {
     "name": "stdout",
     "output_type": "stream",
     "text": [
      "Data description\n",
      "In this project, I will analyze data on the world happiness report until 2020. This is why the main factors that affect the world's happiness are important to me so I will analyze them:\n",
      "Country name\n",
      "upperwhisker\n",
      "lowerwhisker\n",
      "Logged GDR per captia \n",
      "Social support\n",
      "Healthy life experiency\n",
      "Generosity\n",
      "\n"
     ]
    }
   ],
   "source": [
    "b='''Data description\n",
    "In this project, I will analyze data on the world happiness report until 2020. This is why the main factors that affect the world's happiness are important to me so I will analyze them:\n",
    "Country name\n",
    "upperwhisker\n",
    "lowerwhisker\n",
    "Logged GDR per captia \n",
    "Social support\n",
    "Healthy life experiency\n",
    "Generosity\n",
    "'''\n",
    "print(b)"
   ]
  },
  {
   "cell_type": "code",
   "execution_count": 31,
   "metadata": {},
   "outputs": [
    {
     "name": "stdout",
     "output_type": "stream",
     "text": [
      "RESEARCH QUESTION\n",
      "\n",
      "Analyze the top 10 countries of happy countries\n",
      "Analysis of GDP per capita\n",
      "Analysis of the top 10 countries that are not happy countries\n",
      "Analyze perceptions of corruption\n",
      "Analyze how much the data has changed since 2018\n"
     ]
    }
   ],
   "source": [
    "a='''RESEARCH QUESTION\n",
    "\n",
    "Analyze the top 10 countries of happy countries\n",
    "Analysis of GDP per capita\n",
    "Analysis of the top 10 countries that are not happy countries\n",
    "Analyze perceptions of corruption\n",
    "Analyze how much the data has changed since 2018'''\n",
    "print(a)"
   ]
  },
  {
   "cell_type": "code",
   "execution_count": null,
   "metadata": {},
   "outputs": [],
   "source": []
  }
 ],
 "metadata": {
  "kernelspec": {
   "display_name": "Python 3",
   "language": "python",
   "name": "python3"
  },
  "language_info": {
   "codemirror_mode": {
    "name": "ipython",
    "version": 3
   },
   "file_extension": ".py",
   "mimetype": "text/x-python",
   "name": "python",
   "nbconvert_exporter": "python",
   "pygments_lexer": "ipython3",
   "version": "3.8.3"
  }
 },
 "nbformat": 4,
 "nbformat_minor": 4
}
